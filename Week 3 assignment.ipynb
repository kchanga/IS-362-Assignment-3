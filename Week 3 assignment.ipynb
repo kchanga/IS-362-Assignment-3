{
 "cells": [
  {
   "cell_type": "markdown",
   "metadata": {},
   "source": [
    "# Bike Ride From NY to FL\n",
    "\n",
    "**Assignment:**\n",
    "\n",
    "Suppose you have ridden a bicycle from New York City to Key West, Florida.  Your bicycle odometer shows the total miles, which you have dutifully logged at the end of each day with paper and pencil.  Your first two entries might be 55 and 120, indicating that you rode your bike 55 miles on day 1 and 65 miles on day 2.  Your task is to create a pandas Series object that holds the cumulative miles at the end of each day, then use your Python skills to show the total miles that you rode each day.\n"
   ]
  },
  {
   "cell_type": "markdown",
   "metadata": {},
   "source": [
    "*According to Google Maps the bike ride will take 129 hours and will be approximatley 1550 miles in total distance.*"
   ]
  },
  {
   "cell_type": "code",
   "execution_count": 3,
   "metadata": {
    "collapsed": true
   },
   "outputs": [],
   "source": [
    "import pandas as pd\n",
    "import numpy as np\n"
   ]
  },
  {
   "cell_type": "code",
   "execution_count": 5,
   "metadata": {},
   "outputs": [],
   "source": [
    "odometer = {}\n",
    "odometer[1] = 55\n",
    "odometer[2] = 120\n",
    "odometer[3] = 175\n",
    "odometer[4] = 230\n",
    "odometer[5] = 285\n",
    "odometer[6] = 340\n",
    "odometer[7] = 395\n",
    "odometer[8] = 450\n",
    "odometer[9] = 505\n",
    "odometer[10] = 560\n",
    "odometer[11] = 615\n",
    "odometer[12] = 670\n",
    "odometer[13] = 725\n",
    "odometer[14] = 780\n",
    "odometer[15] = 835\n",
    "odometer[16] = 890\n",
    "odometer[17] = 945\n",
    "odometer[18] = 1000\n",
    "odometer[19] = 1055\n",
    "odometer[20] = 1110\n",
    "odometer[21] = 1165\n",
    "odometer[22] = 1220\n",
    "odometer[23] = 1275\n",
    "odometer[24] = 1330\n",
    "odometer[25] = 1385\n",
    "odometer[26] = 1440\n",
    "odometer[27] = 1495\n",
    "odometer[28] = 1550"
   ]
  },
  {
   "cell_type": "markdown",
   "metadata": {},
   "source": [
    "*code that displays the odometer readings into a panda series:*"
   ]
  },
  {
   "cell_type": "code",
   "execution_count": 6,
   "metadata": {},
   "outputs": [
    {
     "data": {
      "text/plain": [
       "1       55\n",
       "2      120\n",
       "3      175\n",
       "4      230\n",
       "5      285\n",
       "6      340\n",
       "7      395\n",
       "8      450\n",
       "9      505\n",
       "10     560\n",
       "11     615\n",
       "12     670\n",
       "13     725\n",
       "14     780\n",
       "15     835\n",
       "16     890\n",
       "17     945\n",
       "18    1000\n",
       "19    1055\n",
       "20    1110\n",
       "21    1165\n",
       "22    1220\n",
       "23    1275\n",
       "24    1330\n",
       "25    1385\n",
       "26    1440\n",
       "27    1495\n",
       "28    1550\n",
       "dtype: int64"
      ]
     },
     "execution_count": 6,
     "metadata": {},
     "output_type": "execute_result"
    }
   ],
   "source": [
    "odometer = pd.Series(odometer)\n",
    "odometer"
   ]
  }
 ],
 "metadata": {
  "kernelspec": {
   "display_name": "Python 2",
   "language": "python",
   "name": "python2"
  },
  "language_info": {
   "codemirror_mode": {
    "name": "ipython",
    "version": 2
   },
   "file_extension": ".py",
   "mimetype": "text/x-python",
   "name": "python",
   "nbconvert_exporter": "python",
   "pygments_lexer": "ipython2",
   "version": "2.7.13"
  }
 },
 "nbformat": 4,
 "nbformat_minor": 2
}
